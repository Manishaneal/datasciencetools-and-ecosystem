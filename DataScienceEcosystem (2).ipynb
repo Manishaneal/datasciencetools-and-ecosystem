{
 "cells": [
  {
   "cell_type": "markdown",
   "id": "e08fa925-0f02-43a4-b32c-8bd8808f3c35",
   "metadata": {},
   "source": [
    "# Data Science Tools and Ecosystem"
   ]
  },
  {
   "cell_type": "markdown",
   "id": "3500289a-2e66-4f73-a3a3-624812d327e4",
   "metadata": {},
   "source": [
    "In this notebook, DataScience Tools and Ecosystem are summerized "
   ]
  },
  {
   "cell_type": "markdown",
   "id": "1234ccdd-46a5-4830-b518-f2ae0ba0d926",
   "metadata": {},
   "source": [
    "Objective:\n",
    ".Python\n",
    ".Java\n",
    ".R"
   ]
  },
  {
   "cell_type": "markdown",
   "id": "3fa13fe4-1c8d-455f-9630-74bbd4e41461",
   "metadata": {},
   "source": [
    "Some of the popular langauge that Data Scientits used are \n",
    "1) C\n",
    "2) C++\n",
    "3) Java\n",
    "   "
   ]
  },
  {
   "cell_type": "markdown",
   "id": "f8df45c1-db23-4bb6-a079-04842b0d990c",
   "metadata": {},
   "source": [
    "Some of the libraries used by Data Scientists are:\n",
    "1) Pandas\n",
    "2) Sypy\n",
    "3) Numpy"
   ]
  },
  {
   "cell_type": "markdown",
   "id": "e1e175ed-a89e-4d8b-9bd1-63d904724405",
   "metadata": {},
   "source": [
    "|Data Science Tools|\n",
    "|:------|\n",
    "|Git|\n",
    "|Linux|\n",
    "|VS Code|"
   ]
  },
  {
   "cell_type": "markdown",
   "id": "626a3c4f-f73f-4c27-b0df-1817f20d0c71",
   "metadata": {},
   "source": [
    "### Below are few examples of evaluating airthmetic expressions in Python"
   ]
  },
  {
   "cell_type": "code",
   "execution_count": 14,
   "id": "ab8021fb-75b1-4c5e-8aff-cdd1692af8fc",
   "metadata": {},
   "outputs": [
    {
     "data": {
      "text/plain": [
       "17"
      ]
     },
     "execution_count": 14,
     "metadata": {},
     "output_type": "execute_result"
    }
   ],
   "source": [
    "(3*4)+5 This is simple expression of multiply and add an integer"
   ]
  },
  {
   "cell_type": "markdown",
   "id": "3d84cc12-8053-4081-b960-c688b31db590",
   "metadata": {},
   "source": [
    "This will convert 200 minutes to hours by dividing by 60\n"
   ]
  },
  {
   "cell_type": "code",
   "execution_count": 19,
   "id": "08978d55-1a0e-4732-907b-c5b115f5aa2e",
   "metadata": {},
   "outputs": [
    {
     "name": "stdout",
     "output_type": "stream",
     "text": [
      "3.3333333333333335\n"
     ]
    }
   ],
   "source": [
    "minutes=200\n",
    "hours=minutes/60\n",
    "print(hours)\n"
   ]
  },
  {
   "cell_type": "markdown",
   "id": "a805a2cb-5d5b-4926-b73c-2ce8d7413c04",
   "metadata": {},
   "source": [
    "## Author\n",
    "Manisha Patel"
   ]
  },
  {
   "cell_type": "code",
   "execution_count": null,
   "id": "8e023a57-263f-4652-a632-3b02f2866bc5",
   "metadata": {},
   "outputs": [],
   "source": []
  }
 ],
 "metadata": {
  "kernelspec": {
   "display_name": "Python 3 (ipykernel)",
   "language": "python",
   "name": "python3"
  },
  "language_info": {
   "codemirror_mode": {
    "name": "ipython",
    "version": 3
   },
   "file_extension": ".py",
   "mimetype": "text/x-python",
   "name": "python",
   "nbconvert_exporter": "python",
   "pygments_lexer": "ipython3",
   "version": "3.12.7"
  }
 },
 "nbformat": 4,
 "nbformat_minor": 5
}
